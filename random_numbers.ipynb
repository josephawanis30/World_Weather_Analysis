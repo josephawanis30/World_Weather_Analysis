{
 "cells": [
  {
   "cell_type": "code",
   "execution_count": 8,
   "id": "c782788c-7b63-441a-bb81-9f1bf4454529",
   "metadata": {},
   "outputs": [],
   "source": [
    "# Import the random module.\n",
    "import random\n",
    "# Import the NumPy module.\n",
    "import numpy as np\n",
    "# Import timeit.\n",
    "import timeit"
   ]
  },
  {
   "cell_type": "code",
   "execution_count": 9,
   "id": "594ff6d6-ba97-40ac-b214-8d46d2eddcd3",
   "metadata": {},
   "outputs": [
    {
     "data": {
      "text/plain": [
       "-80"
      ]
     },
     "execution_count": 9,
     "metadata": {},
     "output_type": "execute_result"
    }
   ],
   "source": [
    "random.randint(-90, 90)"
   ]
  },
  {
   "cell_type": "code",
   "execution_count": 10,
   "id": "9b76d885-d23f-4cef-b2ff-f1c71a64a8eb",
   "metadata": {},
   "outputs": [
    {
     "data": {
      "text/plain": [
       "0.133360353893485"
      ]
     },
     "execution_count": 10,
     "metadata": {},
     "output_type": "execute_result"
    }
   ],
   "source": [
    "random.random()"
   ]
  },
  {
   "cell_type": "code",
   "execution_count": 11,
   "id": "afa0420a-fe49-40fc-bc7c-11b59771762c",
   "metadata": {},
   "outputs": [],
   "source": [
    "x = 1\n",
    "latitudes = []\n",
    "while x < 11:\n",
    "    random_lat = random.randint(-90, 89) + random.random()\n",
    "    latitudes.append(random_lat)\n",
    "    x += 1"
   ]
  },
  {
   "cell_type": "code",
   "execution_count": 12,
   "id": "e3bb2b4f-518c-4973-a2c6-4e084d5ca411",
   "metadata": {},
   "outputs": [
    {
     "data": {
      "text/plain": [
       "[65.77077104624891,\n",
       " -34.30248460515519,\n",
       " 26.36584604147345,\n",
       " -0.7652002983093227,\n",
       " 58.586774681060234,\n",
       " -72.10762795582767,\n",
       " 76.57564351747716,\n",
       " -17.559462654013544,\n",
       " 53.2870376768985,\n",
       " -31.722790304710824]"
      ]
     },
     "execution_count": 12,
     "metadata": {},
     "output_type": "execute_result"
    }
   ],
   "source": [
    "latitudes"
   ]
  },
  {
   "cell_type": "code",
   "execution_count": 13,
   "id": "f758535e-ec9c-4c39-8f33-3b435f819627",
   "metadata": {},
   "outputs": [
    {
     "data": {
      "text/plain": [
       "-46.931729564870274"
      ]
     },
     "execution_count": 13,
     "metadata": {},
     "output_type": "execute_result"
    }
   ],
   "source": [
    "np.random.uniform(-90.000, 90.000)"
   ]
  },
  {
   "cell_type": "code",
   "execution_count": 14,
   "id": "8069b327-f991-46fd-b9ce-3aa7db0ab619",
   "metadata": {},
   "outputs": [
    {
     "data": {
      "text/plain": [
       "array([ 33.08143886, -75.13489612,  81.36194632,   7.61335143,\n",
       "        68.50851361,   6.64690174,  70.11490668, -11.62439863,\n",
       "       -49.4014758 ,  57.17791405, -79.21405824,  25.37192918,\n",
       "        67.59595401, -24.54641854,  49.30929089, -28.84443372,\n",
       "        16.84450939,  -6.41390643, -73.38133131,  11.36009627,\n",
       "       -81.58324322,  -3.96557609,  76.50886867, -73.86632839,\n",
       "        76.87152482, -72.18573556,  30.01703427,  87.84350118,\n",
       "        87.84648754,  14.0439786 ,  67.257516  ,  64.03008063,\n",
       "        -6.20322849,  -6.43588989,  -3.64323553,  34.24871128,\n",
       "        57.39035633, -40.42386345, -51.99208622, -23.14948901,\n",
       "        54.62243861, -14.30328802,  34.36240233,  39.17244281,\n",
       "        32.51047017,  23.17811666,   9.48955164,  76.15114848,\n",
       "        28.84713932,  23.65596291])"
      ]
     },
     "execution_count": 14,
     "metadata": {},
     "output_type": "execute_result"
    }
   ],
   "source": [
    "np.random.uniform(-90.000, 90.000, size=50)"
   ]
  },
  {
   "cell_type": "code",
   "execution_count": 15,
   "id": "eebc8da0-59b7-4197-88f0-092659e5706d",
   "metadata": {},
   "outputs": [
    {
     "name": "stdout",
     "output_type": "stream",
     "text": [
      "15.8 µs ± 176 ns per loop (mean ± std. dev. of 7 runs, 100000 loops each)\n"
     ]
    }
   ],
   "source": [
    "%timeit np.random.uniform(-90.000, 90.000, size=1500)"
   ]
  },
  {
   "cell_type": "code",
   "execution_count": 16,
   "id": "4fe4d47e-bf7b-44be-aa86-f3d5fdf73444",
   "metadata": {},
   "outputs": [
    {
     "name": "stdout",
     "output_type": "stream",
     "text": [
      "1.86 ms ± 25.1 µs per loop (mean ± std. dev. of 7 runs, 1000 loops each)\n"
     ]
    }
   ],
   "source": [
    "def latitudes(size):\n",
    "    latitudes = []\n",
    "    x = 0\n",
    "    while x < (size):\n",
    "        random_lat = random.randint(-90, 90) + random.random()\n",
    "        latitudes.append(random_lat)\n",
    "        x += 1\n",
    "    return latitudes\n",
    "# Call the function with 1500.\n",
    "%timeit latitudes(1500)"
   ]
  },
  {
   "cell_type": "code",
   "execution_count": null,
   "id": "d272a15b-fb1f-4e14-87ca-4cd36a66e56c",
   "metadata": {},
   "outputs": [],
   "source": []
  }
 ],
 "metadata": {
  "kernelspec": {
   "display_name": "PythonData",
   "language": "python",
   "name": "pythondata"
  },
  "language_info": {
   "codemirror_mode": {
    "name": "ipython",
    "version": 3
   },
   "file_extension": ".py",
   "mimetype": "text/x-python",
   "name": "python",
   "nbconvert_exporter": "python",
   "pygments_lexer": "ipython3",
   "version": "3.7.11"
  }
 },
 "nbformat": 4,
 "nbformat_minor": 5
}
